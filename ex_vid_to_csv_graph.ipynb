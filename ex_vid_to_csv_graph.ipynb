{
 "cells": [
  {
   "cell_type": "code",
   "execution_count": 1,
   "metadata": {},
   "outputs": [],
   "source": [
    "# this entire code takes in recorded video as input, then it processes them, run detecting & tracking software,\n",
    "# generate a table of speed against time & a video of graph being drawn in real time\n",
    "\n",
    "import os\n",
    "import subprocess\n",
    "import matplotlib.pyplot as plt\n",
    "import pandas as pd\n",
    "import matplotlib.animation as animation\n",
    "from DetectTrackUtilsMul import *\n",
    "from TimeUtils import *"
   ]
  },
  {
   "cell_type": "code",
   "execution_count": 2,
   "metadata": {},
   "outputs": [],
   "source": [
    "yolo_model = \"/Users/yapginehann/Desktop/codes/train/results/weights/best.pt\"\n",
    "\n",
    "# video files path\n",
    "vid_directory = \"/Users/yapginehann/Desktop/codes/recordings/ex\"\n",
    "streamed_vid = f\"{vid_directory}/ex.mp4\"\n",
    "processed_vid = f\"{vid_directory}/ex - p.mp4\"\n",
    "output_vid = f\"{vid_directory}/ex - d.mp4\"\n",
    "output_dot_vid = f\"{vid_directory}/ex - dd.mp4\"\n",
    "output_table = f\"{vid_directory}/ex - r.csv\"\n",
    "output_graph = f\"{vid_directory}/ex - r.png\"\n",
    "output_graph_vid = f\"{vid_directory}/ex - r.mp4\""
   ]
  },
  {
   "cell_type": "code",
   "execution_count": 3,
   "metadata": {},
   "outputs": [],
   "source": [
    "# process video so that it plays for 2 minutes in realtime\n",
    "def process_vid(pre_vid, post_vid):\n",
    "    subprocess.run([\"ffmpeg\", \"-i\", f\"{pre_vid}\", \"-ss\", \"0:00:00\", \"-t\", \"00:02:00\", \"-filter:v\", \"setpts=1.25*PTS\", f\"{post_vid}\"]) \n",
    "\n",
    "# generate graph, output mean_activity\n",
    "def generate_graph_and_mean(table, output_graph):\n",
    "    df = pd.read_csv(table)\n",
    "\n",
    "    plt.plot(df['Time'], df['Aggregate Velocity'], color='red', label='Velocity (Rolling)')\n",
    "    plt.xlabel('Time (seconds)')\n",
    "    plt.ylabel('Velocity (pixels per second)')\n",
    "    plt.title(f\"Fishes' velocity\")\n",
    "    plt.axhline(y = df['Aggregate Velocity'].mean(), color = 'darkred', label = 'Average Velocity')\n",
    "    plt.legend()\n",
    "    # plt.ylim(None, 1500)\n",
    "    plt.savefig(output_graph) \n",
    "\n",
    "    mean_activity = df['Aggregate Velocity'].mean()\n",
    "    return mean_activity "
   ]
  },
  {
   "cell_type": "code",
   "execution_count": null,
   "metadata": {},
   "outputs": [],
   "source": [
    "process_vid(streamed_vid, processed_vid)"
   ]
  },
  {
   "cell_type": "code",
   "execution_count": null,
   "metadata": {},
   "outputs": [],
   "source": [
    "fish_detector_tracker(processed_vid, output_vid, output_dot_vid, output_table, yolo_model)"
   ]
  },
  {
   "cell_type": "code",
   "execution_count": 4,
   "metadata": {},
   "outputs": [],
   "source": [
    "mean_activity = generate_graph_and_mean(output_table, output_graph)"
   ]
  },
  {
   "cell_type": "code",
   "execution_count": 5,
   "metadata": {},
   "outputs": [],
   "source": [
    "df = pd.read_csv(output_table)\n",
    "\n",
    "fig, ax = plt.subplots()\n",
    "\n",
    "# Create empty line objects for each category of data\n",
    "lines = []\n",
    "\n",
    "# Define the line objects\n",
    "line, = ax.plot([], [], label='velocity', color='red')\n",
    "lines.append(line)\n",
    "\n",
    "# Set axis labels and title\n",
    "ax.set_xlabel('Time (seconds)')\n",
    "ax.set_ylabel('Velocity (pixels per second)')\n",
    "ax.set_title('Velocity of fishes when feeding')\n",
    "ax.set_ylim(500,4000)\n",
    "ax.legend()\n",
    "\n",
    "# Define the update function\n",
    "def update(frame):\n",
    "    # Load the data for the current frame\n",
    "    data = df.iloc[:frame+1]\n",
    "\n",
    "    # Update the data for the line object\n",
    "    x = data['Time']\n",
    "    y = data['Aggregate Velocity']\n",
    "    lines[0].set_data(x, y)\n",
    "\n",
    "    # Set the x-axis limit to show only the most recent data\n",
    "    ax.set_xlim(max(0, x.iloc[-1] - 60), x.iloc[-1])"
   ]
  },
  {
   "cell_type": "code",
   "execution_count": 6,
   "metadata": {},
   "outputs": [
    {
     "name": "stderr",
     "output_type": "stream",
     "text": [
      "/var/folders/tk/7mv5n79j5xl_gyv7hrpnw3w40000gn/T/ipykernel_65890/488422229.py:30: UserWarning: Attempting to set identical low and high xlims makes transformation singular; automatically expanding.\n",
      "  ax.set_xlim(max(0, x.iloc[-1] - 60), x.iloc[-1])\n"
     ]
    }
   ],
   "source": [
    "# output video of graph being drawn in realtime \n",
    "ani = animation.FuncAnimation(fig, update, frames=len(df), interval=100)\n",
    "FFwriter = animation.FFMpegWriter(fps=16)\n",
    "ani.save(output_graph_vid, writer=FFwriter)"
   ]
  }
 ],
 "metadata": {
  "kernelspec": {
   "display_name": "codes",
   "language": "python",
   "name": "python3"
  },
  "language_info": {
   "codemirror_mode": {
    "name": "ipython",
    "version": 3
   },
   "file_extension": ".py",
   "mimetype": "text/x-python",
   "name": "python",
   "nbconvert_exporter": "python",
   "pygments_lexer": "ipython3",
   "version": "3.9.16"
  },
  "orig_nbformat": 4
 },
 "nbformat": 4,
 "nbformat_minor": 2
}
